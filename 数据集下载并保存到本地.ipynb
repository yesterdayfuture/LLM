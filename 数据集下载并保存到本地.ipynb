{
 "cells": [
  {
   "cell_type": "code",
   "execution_count": 4,
   "id": "8c598e6b-442f-4e4e-b546-1d03e65d3525",
   "metadata": {},
   "outputs": [],
   "source": [
    "#数据集下载\n",
    "from datasets import load_dataset\n",
    "\n",
    "ds = load_dataset(\"FreedomIntelligence/medical-o1-reasoning-SFT\", \"zh\",cache_dir = './dir')"
   ]
  },
  {
   "cell_type": "code",
   "execution_count": null,
   "id": "60e8e07f-cefe-49d3-b237-2c981670fcb3",
   "metadata": {},
   "outputs": [],
   "source": [
    "ds"
   ]
  },
  {
   "cell_type": "code",
   "execution_count": null,
   "id": "b6567ed6-2dc8-45be-b34a-4e64bfe999ed",
   "metadata": {},
   "outputs": [],
   "source": [
    "ds['train'][0]"
   ]
  },
  {
   "cell_type": "code",
   "execution_count": null,
   "id": "a61762aa-0137-49e9-9748-9e8fef88f285",
   "metadata": {},
   "outputs": [],
   "source": [
    "#数据保存\n",
    "ds.save_to_disk(\"./local_dataset\")"
   ]
  },
  {
   "cell_type": "code",
   "execution_count": 8,
   "id": "e6c60be8-62af-446c-abdc-4a932a0173d2",
   "metadata": {},
   "outputs": [],
   "source": [
    "#数据集从 本地 加载\n",
    "from datasets import load_from_disk\n",
    "\n",
    "dataset = load_from_disk(\"./local_dataset\")"
   ]
  },
  {
   "cell_type": "code",
   "execution_count": null,
   "id": "1894cd8b-9fb7-480c-a7bb-57040ad6592e",
   "metadata": {},
   "outputs": [],
   "source": [
    "dataset"
   ]
  },
  {
   "cell_type": "code",
   "execution_count": null,
   "id": "3e7c6b66-a4c2-45e3-98ea-39da3d0dedc5",
   "metadata": {},
   "outputs": [],
   "source": [
    "dataset['train'][0]"
   ]
  },
  {
   "cell_type": "code",
   "execution_count": null,
   "id": "a46d015e-9d55-4981-8609-38074ad20a65",
   "metadata": {},
   "outputs": [],
   "source": []
  }
 ],
 "metadata": {
  "kernelspec": {
   "display_name": "Python 3 (ipykernel)",
   "language": "python",
   "name": "python3"
  },
  "language_info": {
   "codemirror_mode": {
    "name": "ipython",
    "version": 3
   },
   "file_extension": ".py",
   "mimetype": "text/x-python",
   "name": "python",
   "nbconvert_exporter": "python",
   "pygments_lexer": "ipython3",
   "version": "3.10.8"
  }
 },
 "nbformat": 4,
 "nbformat_minor": 5
}
