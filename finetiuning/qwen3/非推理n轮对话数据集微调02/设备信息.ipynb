{
 "cells": [
  {
   "cell_type": "code",
   "execution_count": null,
   "id": "fca6ef65-a21f-4a87-9a86-87c9c6e9303f",
   "metadata": {},
   "outputs": [],
   "source": [
    "import torch\n",
    "import round"
   ]
  },
  {
   "cell_type": "code",
   "execution_count": null,
   "id": "21b18b78-4cc1-48ab-b5fa-1129d1d1c9cc",
   "metadata": {},
   "outputs": [],
   "source": [
    "# 获取当前GPU设备(设备索引0)的完整属性信息\n",
    "# 返回对象包含name(显卡型号)、total_memory(总显存)等关键属性\n",
    "gpu_stats = torch.cuda.get_device_properties(0)\n",
    "\n",
    "# 计算当前已预留的显存大小（转换为GB单位，保留3位小数）\n",
    "# max_memory_reserved()返回PyTorch已申请的显存峰值（包括已使用和缓存）\n",
    "start_gpu_memory = round(torch.cuda.max_memory_reserved() / 1024 / 1024 / 1024, 3)\n",
    "\n",
    "# 计算GPU总显存大小（转换为GB单位，保留3位小数）\n",
    "# total_memory以字节为单位，通过连续三次除以1024转换为GB\n",
    "max_memory = round(gpu_stats.total_memory / 1024 / 1024 / 1024, 3)\n",
    "\n",
    "# 打印GPU型号和总显存容量\n",
    "print(f\"GPU = {gpu_stats.name}. Max memory = {max_memory} GB.\")\n",
    "\n",
    "# 打印当前已预留的显存量\n",
    "print(f\"{start_gpu_memory} GB of memory reserved.\")\n"
   ]
  },
  {
   "cell_type": "code",
   "execution_count": null,
   "id": "1f46e00d-3df2-4d4b-b5e6-91aa0dc7bbe9",
   "metadata": {},
   "outputs": [],
   "source": []
  },
  {
   "cell_type": "code",
   "execution_count": null,
   "id": "5effdd68-88ca-40a8-9c9f-110ca0813c2e",
   "metadata": {},
   "outputs": [],
   "source": [
    "# 计算当前已使用的总显存量（GB单位，保留3位小数）\n",
    "# max_memory_reserved()返回训练过程中PyTorch申请的显存峰值\n",
    "used_memory = round(torch.cuda.max_memory_reserved() / 1024 / 1024 / 1024, 3)\n",
    "\n",
    "# 计算LoRA训练实际消耗的显存（总使用量减去初始预留量）\n",
    "used_memory_for_lora = round(used_memory - start_gpu_memory, 3)\n",
    "\n",
    "# 计算总显存使用百分比（相对于GPU最大显存）\n",
    "used_percentage = round(used_memory / max_memory * 100, 3)\n",
    "\n",
    "# 计算LoRA训练显存占比（相对于GPU最大显存）\n",
    "lora_percentage = round(used_memory_for_lora / max_memory * 100, 3)\n",
    "\n",
    "# 打印训练耗时（秒单位）\n",
    "print(f\"{trainer_stats.metrics['train_runtime']} seconds used for training.\")\n",
    "\n",
    "# 打印训练耗时（分钟单位，保留2位小数）\n",
    "print(f\"{round(trainer_stats.metrics['train_runtime']/60, 2)} minutes used for training.\")\n",
    "\n",
    "# 打印峰值显存占用情况\n",
    "print(f\"Peak reserved memory = {used_memory} GB.\")  # 绝对数值\n",
    "print(f\"Peak reserved memory for training = {used_memory_for_lora} GB.\")  # 净训练消耗\n",
    "\n",
    "# 打印显存占用比例\n",
    "print(f\"Peak reserved memory % of max memory = {used_percentage} %.\")  # 总占用率\n",
    "print(f\"Peak reserved memory for training % of max memory = {lora_percentage} %.\")  # 训练净占用率\n"
   ]
  },
  {
   "cell_type": "code",
   "execution_count": null,
   "id": "c93ec734-c3db-4713-8875-2f9a6245d3df",
   "metadata": {},
   "outputs": [],
   "source": []
  },
  {
   "cell_type": "code",
   "execution_count": null,
   "id": "2dfb0e1b-7682-44d9-8dd3-e49928e27873",
   "metadata": {},
   "outputs": [],
   "source": []
  },
  {
   "cell_type": "code",
   "execution_count": null,
   "id": "a382a50d-4e64-4911-980a-e490b980495f",
   "metadata": {},
   "outputs": [],
   "source": []
  },
  {
   "cell_type": "code",
   "execution_count": null,
   "id": "3ffcb9bd-aab8-4ff1-b0a0-1aae03f8311e",
   "metadata": {},
   "outputs": [],
   "source": []
  },
  {
   "cell_type": "code",
   "execution_count": null,
   "id": "36747f17-991f-4f06-b658-30067cbc85a3",
   "metadata": {},
   "outputs": [],
   "source": []
  },
  {
   "cell_type": "code",
   "execution_count": null,
   "id": "ee899fdc-2962-4d43-8b10-815ab88200f4",
   "metadata": {},
   "outputs": [],
   "source": []
  },
  {
   "cell_type": "code",
   "execution_count": null,
   "id": "7171b35c-6ea5-406c-a75d-be77f261c5bc",
   "metadata": {},
   "outputs": [],
   "source": []
  }
 ],
 "metadata": {
  "kernelspec": {
   "display_name": "Python 3 (ipykernel)",
   "language": "python",
   "name": "python3"
  },
  "language_info": {
   "name": ""
  }
 },
 "nbformat": 4,
 "nbformat_minor": 5
}
