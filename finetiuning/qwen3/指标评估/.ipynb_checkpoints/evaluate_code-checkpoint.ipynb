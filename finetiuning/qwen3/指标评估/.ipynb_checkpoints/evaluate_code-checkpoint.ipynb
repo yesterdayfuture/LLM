{
 "cells": [
  {
   "cell_type": "markdown",
   "metadata": {},
   "source": [
    "## 下载包"
   ]
  },
  {
   "cell_type": "markdown",
   "metadata": {},
   "source": [
    "pip install rouge nltk\n",
    "\n",
    "pip install flash-attn --no-build-isolation \n",
    "\n",
    "pip instal sentence_transformers scikit-learn"
   ]
  },
  {
   "cell_type": "markdown",
   "metadata": {},
   "source": [
    "rouge blue accuracy f1 precision recall 相似性 ： answer cot cot+answer"
   ]
  }
 ],
 "metadata": {
  "language_info": {
   "name": "python"
  }
 },
 "nbformat": 4,
 "nbformat_minor": 2
}
